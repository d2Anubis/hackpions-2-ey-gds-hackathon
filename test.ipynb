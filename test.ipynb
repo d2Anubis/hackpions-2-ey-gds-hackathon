{
 "cells": [
  {
   "cell_type": "markdown",
   "metadata": {},
   "source": [
    "## Classify Module\n",
    "\n",
    "This module helps in classifying the Exceptions using the following methods\n",
    "- direct match from existing Exception list - Time complexity O(n)\n",
    "- direct match from existing Business and System lookup table - Time complexity O(len(lookup table))\n",
    "- fuzzy logic match - Time complexity O(n^2)\n",
    "- Bert based similarity score match - Time complexity O(n)\n",
    "\n",
    "The module also helps in saving the exceptions along with unique ID and Exception Tag into the database(excel sheets) and shows duplication response when similar error is tried to save in database."
   ]
  },
  {
   "cell_type": "code",
   "execution_count": 1,
   "metadata": {},
   "outputs": [],
   "source": [
    "from main import Classify"
   ]
  },
  {
   "cell_type": "code",
   "execution_count": 2,
   "metadata": {},
   "outputs": [],
   "source": [
    "a = Classify(\"Cannot find image from navigation to mail\")"
   ]
  },
  {
   "cell_type": "code",
   "execution_count": 3,
   "metadata": {},
   "outputs": [
    {
     "name": "stdout",
     "output_type": "stream",
     "text": [
      "Using ML model to find similar Exceptions from database.\n"
     ]
    },
    {
     "name": "stderr",
     "output_type": "stream",
     "text": [
      "Some weights of the model checkpoint at distilbert-base-uncased were not used when initializing DistilBertModel: ['vocab_layer_norm.weight', 'vocab_projector.weight', 'vocab_projector.bias', 'vocab_transform.bias', 'vocab_transform.weight', 'vocab_layer_norm.bias']\n",
      "- This IS expected if you are initializing DistilBertModel from the checkpoint of a model trained on another task or with another architecture (e.g. initializing a BertForSequenceClassification model from a BertForPreTraining model).\n",
      "- This IS NOT expected if you are initializing DistilBertModel from the checkpoint of a model that you expect to be exactly identical (initializing a BertForSequenceClassification model from a BertForSequenceClassification model).\n"
     ]
    },
    {
     "data": {
      "text/plain": [
       "('Error exists at index',\n",
       " [[0, 0.5295286178588867],\n",
       "  [1, 0.5283221304416656],\n",
       "  [2, 0.5409013628959656],\n",
       "  [5, 0.5279100835323334],\n",
       "  [6, 0.5354478359222412],\n",
       "  [7, 0.5496006309986115],\n",
       "  [8, 0.5370990931987762],\n",
       "  [9, 0.5301514267921448],\n",
       "  [10, 0.5136793553829193],\n",
       "  [12, 0.5175462961196899],\n",
       "  [13, 0.5261430740356445],\n",
       "  [17, 0.5642987489700317],\n",
       "  [18, 0.5914368033409119],\n",
       "  [19, 0.5508487820625305],\n",
       "  [22, 0.5331584215164185],\n",
       "  [25, 0.6119281053543091],\n",
       "  [27, 0.5121427476406097],\n",
       "  [30, 0.5099238455295563],\n",
       "  [31, 0.5163514316082001],\n",
       "  [35, 0.5118187069892883],\n",
       "  [46, 0.5062907934188843]])"
      ]
     },
     "execution_count": 3,
     "metadata": {},
     "output_type": "execute_result"
    }
   ],
   "source": [
    "a.match_from_database()"
   ]
  },
  {
   "cell_type": "code",
   "execution_count": 6,
   "metadata": {},
   "outputs": [
    {
     "name": "stdout",
     "output_type": "stream",
     "text": [
      "Created Exception with ID :  99470157\n"
     ]
    }
   ],
   "source": [
    "a.update_to_database()"
   ]
  },
  {
   "cell_type": "markdown",
   "metadata": {},
   "source": [
    "## Exception Tag Update Module\n",
    "\n",
    "This module helps in adding self identified tags to business/system exception"
   ]
  },
  {
   "cell_type": "code",
   "execution_count": 1,
   "metadata": {},
   "outputs": [],
   "source": [
    "from main import Update_tags"
   ]
  },
  {
   "cell_type": "code",
   "execution_count": 5,
   "metadata": {},
   "outputs": [
    {
     "name": "stdout",
     "output_type": "stream",
     "text": [
      "Error already exists in Database. Duplication avoided.\n"
     ]
    }
   ],
   "source": [
    "b = Update_tags(error=\"Missing mandatory test\", tag=\"System Exception\")\n",
    "b.update()"
   ]
  },
  {
   "cell_type": "markdown",
   "metadata": {},
   "source": [
    "## Vector creation Module\n",
    "\n",
    "Vector creation module was implemented to manually vectorise the exceptions into numerical vectors and store in database separately to avoid on spot computation and slow computation"
   ]
  },
  {
   "cell_type": "code",
   "execution_count": 1,
   "metadata": {},
   "outputs": [],
   "source": [
    "import vector"
   ]
  },
  {
   "cell_type": "code",
   "execution_count": 2,
   "metadata": {
    "scrolled": false
   },
   "outputs": [
    {
     "name": "stderr",
     "output_type": "stream",
     "text": [
      "Some weights of the model checkpoint at distilbert-base-uncased were not used when initializing DistilBertModel: ['vocab_transform.weight', 'vocab_transform.bias', 'vocab_projector.weight', 'vocab_layer_norm.bias', 'vocab_layer_norm.weight', 'vocab_projector.bias']\n",
      "- This IS expected if you are initializing DistilBertModel from the checkpoint of a model trained on another task or with another architecture (e.g. initializing a BertForSequenceClassification model from a BertForPreTraining model).\n",
      "- This IS NOT expected if you are initializing DistilBertModel from the checkpoint of a model that you expect to be exactly identical (initializing a BertForSequenceClassification model from a BertForSequenceClassification model).\n"
     ]
    }
   ],
   "source": [
    "vector.save_vector()"
   ]
  },
  {
   "cell_type": "code",
   "execution_count": null,
   "metadata": {},
   "outputs": [],
   "source": []
  },
  {
   "cell_type": "code",
   "execution_count": null,
   "metadata": {},
   "outputs": [],
   "source": []
  },
  {
   "cell_type": "code",
   "execution_count": 1,
   "metadata": {},
   "outputs": [],
   "source": [
    "c = ('Error exists at index',\n",
    " [[0, 0.5295286178588867],\n",
    "  [1, 0.5283221304416656],\n",
    "  [2, 0.5409013628959656],\n",
    "  [5, 0.5279100835323334],\n",
    "  [6, 0.5354478359222412],\n",
    "  [7, 0.5496006309986115],\n",
    "  [8, 0.5370990931987762],\n",
    "  [9, 0.5301514267921448],\n",
    "  [10, 0.5136793553829193],\n",
    "  [12, 0.5175462961196899],\n",
    "  [13, 0.5261430740356445],\n",
    "  [17, 0.5642987489700317],\n",
    "  [18, 0.5914368033409119],\n",
    "  [19, 0.5508487820625305],\n",
    "  [22, 0.5331584215164185],\n",
    "  [25, 0.6119281053543091],\n",
    "  [27, 0.5121427476406097],\n",
    "  [30, 0.5099238455295563],\n",
    "  [31, 0.5163514316082001],\n",
    "  [35, 0.5118187069892883],\n",
    "  [46, 0.5062907934188843]])"
   ]
  },
  {
   "cell_type": "code",
   "execution_count": null,
   "metadata": {},
   "outputs": [],
   "source": []
  },
  {
   "cell_type": "code",
   "execution_count": 18,
   "metadata": {
    "scrolled": false
   },
   "outputs": [
    {
     "data": {
      "text/plain": [
       "[25, 18, 17, 19, 7]"
      ]
     },
     "execution_count": 18,
     "metadata": {},
     "output_type": "execute_result"
    }
   ],
   "source": [
    "[i for i,j in sorted(c[1], key=lambda x: x[1], reverse=True)[:5]]"
   ]
  },
  {
   "cell_type": "code",
   "execution_count": null,
   "metadata": {},
   "outputs": [],
   "source": []
  }
 ],
 "metadata": {
  "kernelspec": {
   "display_name": "Python 3",
   "language": "python",
   "name": "python3"
  },
  "language_info": {
   "codemirror_mode": {
    "name": "ipython",
    "version": 3
   },
   "file_extension": ".py",
   "mimetype": "text/x-python",
   "name": "python",
   "nbconvert_exporter": "python",
   "pygments_lexer": "ipython3",
   "version": "3.7.4"
  }
 },
 "nbformat": 4,
 "nbformat_minor": 2
}
